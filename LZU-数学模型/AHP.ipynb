{
 "cells": [
  {
   "cell_type": "code",
   "execution_count": 16,
   "id": "bcbbafec",
   "metadata": {},
   "outputs": [
    {
     "name": "stdout",
     "output_type": "stream",
     "text": [
      "一致性检验通过，CR = 0.01453314688915648\n",
      "一致性检验通过，CR = 0.0030750620769431298\n",
      "一致性检验通过，CR = 0.0008564583690140459\n",
      "一致性检验通过，CR = -4.934324553889585e-16\n",
      "一致性检验通过，CR = 0.005112618174599366\n",
      "一致性检验通过，CR = 0.0\n",
      "A_vec = [0.26360349 0.47583538 0.0538146  0.09806829 0.10867824]\n",
      "B_1_vec = [0.59537902 0.27635046 0.12827052]\n",
      "B_2_vec = [0.08193475 0.2363407  0.68172455]\n",
      "B_3_vec = [0.42857143 0.42857143 0.14285714]\n",
      "B_4_vec = [0.63370792 0.19192062 0.17437146]\n",
      "B_5_vec = [0.16666667 0.16666667 0.66666667]\n",
      "最终权重为： [0.29925453 0.24530398 0.45544149]\n"
     ]
    }
   ],
   "source": [
    "# 层次分析法\n",
    "import numpy as np\n",
    "\n",
    "def AHP(A, epilson=0.1):\n",
    "    # 寻找特征向量\n",
    "    val, vec = np.linalg.eig(A)\n",
    "    val = val.real\n",
    "    vec = vec.real\n",
    "    max_index = np.argmax(val)\n",
    "    max_vec = vec[:, max_index]\n",
    "    max_vec = max_vec / np.sum(max_vec)\n",
    "\n",
    "    # 一致性检验\n",
    "    n = A.shape[0]\n",
    "    RI = [0, 0, 0.58, 0.9, 1.12, 1.24, 1.32, 1.41, 1.45, 1.49]\n",
    "    CI = (np.max(val) - n) / (n - 1)\n",
    "    CR = CI / RI[n]\n",
    "    if CR < epilson:\n",
    "        print(\"一致性检验通过，CR =\", CR)\n",
    "        return max_vec, CR\n",
    "    else:\n",
    "        print(\"一致性检验不通过，CR =\", CR)\n",
    "        return max_vec, CR\n",
    "\n",
    "\n",
    "A = np.array([[1, 1/2, 4, 3, 3],\n",
    "              [2, 1, 7, 5, 5],\n",
    "              [1/4, 1/7, 1, 1/2, 1/3],\n",
    "              [1/3, 1/5, 2, 1, 1],\n",
    "              [1/3, 1/5, 3, 1, 1]])\n",
    "\n",
    "B_1 = np.array([[1, 2, 5], [1/2, 1, 2], [1/5, 1/2, 1]])\n",
    "B_2 = np.array([[1, 1/3, 1/8], [3, 1, 1/3], [8, 3, 1]])\n",
    "B_3 = np.array([[1, 1, 3], [1, 1, 3], [1/3, 1/3, 1]])\n",
    "B_4 = np.array([[1, 3, 4], [1/3, 1, 1], [1/4, 1, 1]])\n",
    "B_5 = np.array([[1, 1, 1/4], [1, 1, 1/4], [4, 4, 1]])\n",
    "\n",
    "\n",
    "A_vec, A_CR = AHP(A)\n",
    "B_1_vec, B_1_CR = AHP(B_1)\n",
    "B_2_vec, B_2_CR = AHP(B_2)\n",
    "B_3_vec, B_3_CR = AHP(B_3)\n",
    "B_4_vec, B_4_CR = AHP(B_4)\n",
    "B_5_vec, B_5_CR = AHP(B_5)\n",
    "\n",
    "\n",
    "print(\"A_vec =\", A_vec)\n",
    "print(\"B_1_vec =\", B_1_vec)\n",
    "print(\"B_2_vec =\", B_2_vec)\n",
    "print(\"B_3_vec =\", B_3_vec)\n",
    "print(\"B_4_vec =\", B_4_vec)\n",
    "print(\"B_5_vec =\", B_5_vec)\n",
    "\n",
    "\n",
    "# 确定最终权重\n",
    "\n",
    "\n",
    "def get_weight(A_vec, B):\n",
    "    weight = np.dot(B, A_vec)\n",
    "    return weight\n",
    "\n",
    "A_vec = A_vec.T\n",
    "B = np.array([B_1_vec, B_2_vec, B_3_vec, B_4_vec, B_5_vec]).T\n",
    "weight = get_weight(A_vec, B)\n",
    "print(\"最终权重为：\", weight)"
   ]
  }
 ],
 "metadata": {
  "kernelspec": {
   "display_name": "pytorch-gpu",
   "language": "python",
   "name": "python3"
  },
  "language_info": {
   "codemirror_mode": {
    "name": "ipython",
    "version": 3
   },
   "file_extension": ".py",
   "mimetype": "text/x-python",
   "name": "python",
   "nbconvert_exporter": "python",
   "pygments_lexer": "ipython3",
   "version": "3.11.11"
  }
 },
 "nbformat": 4,
 "nbformat_minor": 5
}
