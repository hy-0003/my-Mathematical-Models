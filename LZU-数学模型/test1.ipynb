{
 "cells": [
  {
   "cell_type": "code",
   "execution_count": 1,
   "metadata": {},
   "outputs": [
    {
     "name": "stdout",
     "output_type": "stream",
     "text": [
      "解向量 x: [ 2.  3. -1.]\n",
      "[  8. -11.  -3.]\n"
     ]
    }
   ],
   "source": [
    "import numpy as np\n",
    "\n",
    "def gaussian_elimination(A, b):\n",
    "    \"\"\"\n",
    "    使用高斯消元法解线性方程组 Ax = b\n",
    "    :param A: 系数矩阵（二维数组）\n",
    "    :param b: 常数向量（一维数组）\n",
    "    :return: 解向量 x\n",
    "    \"\"\"\n",
    "    # 获取矩阵的行数\n",
    "    n = len(b)\n",
    "    \n",
    "    # 合并系数矩阵和常数向量，形成增广矩阵\n",
    "    Ab = np.hstack([A, b.reshape(-1, 1)])\n",
    "    \n",
    "    # 前向消元，将矩阵化简为上三角矩阵\n",
    "    for i in range(n):\n",
    "        # 寻找主元（对角线元素）\n",
    "        pivot = Ab[i, i]\n",
    "        \n",
    "        # 如果主元为零，尝试交换行\n",
    "        if abs(pivot) < 1e-12:\n",
    "            for j in range(i + 1, n):\n",
    "                if abs(Ab[j, i]) > 1e-12:\n",
    "                    Ab[[i, j]] = Ab[[j, i]]  # 交换行\n",
    "                    pivot = Ab[i, i]\n",
    "                    break\n",
    "            else:\n",
    "                raise ValueError(\"矩阵是奇异的，无法求解。\")\n",
    "        \n",
    "        # 将当前行的主元归一化\n",
    "        Ab[i] = Ab[i] / pivot\n",
    "        \n",
    "        # 消去下方的元素\n",
    "        for j in range(i + 1, n):\n",
    "            factor = Ab[j, i]\n",
    "            Ab[j] = Ab[j] - factor * Ab[i]\n",
    "    \n",
    "    # 回代求解未知数\n",
    "    x = np.zeros(n)\n",
    "    for i in range(n - 1, -1, -1):\n",
    "        x[i] = Ab[i, -1] - np.dot(Ab[i, :-1], x)\n",
    "    \n",
    "    return x\n",
    "\n",
    "# 示例\n",
    "A = np.array([[2, 1, -1],\n",
    "              [-3, -1, 2],\n",
    "              [-2, 1, 2]], dtype=float)\n",
    "\n",
    "b = np.array([8, -11, -3], dtype=float)\n",
    "\n",
    "# 调用高斯消元法\n",
    "x = gaussian_elimination(A, b)\n",
    "print(\"解向量 x:\", x)\n",
    "\n",
    "print(np.dot(A,x))\n"
   ]
  },
  {
   "cell_type": "code",
   "execution_count": 2,
   "metadata": {},
   "outputs": [
    {
     "name": "stdout",
     "output_type": "stream",
     "text": [
      "解向量 x: [ 2.  3. -1.]\n"
     ]
    }
   ],
   "source": [
    "import numpy as np\n",
    "\n",
    "def cramer_rule(A, b):\n",
    "    \"\"\"\n",
    "    使用克莱姆法则求解线性方程组 Ax = b\n",
    "    :param A: 系数矩阵，必须是方阵\n",
    "    :param b: 常数向量\n",
    "    :return: 解向量 x\n",
    "    \"\"\"\n",
    "    # 检查 A 是否是方阵\n",
    "    assert A.shape[0] == A.shape[1], \"系数矩阵必须是方阵\"\n",
    "    n = A.shape[0]\n",
    "    \n",
    "    # 计算系数矩阵 A 的行列式\n",
    "    det_A = np.linalg.det(A)\n",
    "    \n",
    "    # 检查行列式是否为零\n",
    "    if det_A == 0:\n",
    "        raise ValueError(\"系数矩阵的行列式为零，无法使用克莱姆法则求解\")\n",
    "    \n",
    "    # 初始化解向量 x\n",
    "    x = np.zeros(n)\n",
    "    \n",
    "    # 遍历每个变量，计算 x_i\n",
    "    for i in range(n):\n",
    "        # 构造矩阵 A_i，将 A 的第 i 列替换为 b\n",
    "        A_i = A.copy()\n",
    "        A_i[:, i] = b\n",
    "        \n",
    "        # 计算 A_i 的行列式\n",
    "        det_A_i = np.linalg.det(A_i)\n",
    "        \n",
    "        # 根据克莱姆法则计算 x_i\n",
    "        x[i] = det_A_i / det_A\n",
    "    \n",
    "    return x\n",
    "\n",
    "# 示例\n",
    "A = np.array([[2, 1, -1],\n",
    "              [-3, -1, 2],\n",
    "              [-2, 1, 2]], dtype=float)\n",
    "\n",
    "b = np.array([8, -11, -3], dtype=float)\n",
    "\n",
    "# 使用克莱姆法则求解\n",
    "x = cramer_rule(A, b)\n",
    "print(\"解向量 x:\", x)\n"
   ]
  },
  {
   "cell_type": "code",
   "execution_count": null,
   "metadata": {},
   "outputs": [],
   "source": []
  }
 ],
 "metadata": {
  "kernelspec": {
   "display_name": "pytorch-gpu",
   "language": "python",
   "name": "python3"
  },
  "language_info": {
   "codemirror_mode": {
    "name": "ipython",
    "version": 3
   },
   "file_extension": ".py",
   "mimetype": "text/x-python",
   "name": "python",
   "nbconvert_exporter": "python",
   "pygments_lexer": "ipython3",
   "version": "3.11.11"
  }
 },
 "nbformat": 4,
 "nbformat_minor": 2
}
