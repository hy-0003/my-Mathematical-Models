{
 "cells": [
  {
   "cell_type": "code",
   "execution_count": null,
   "id": "bddce8f6",
   "metadata": {},
   "outputs": [
    {
     "name": "stdout",
     "output_type": "stream",
     "text": [
      "公共序列长度: 0\n",
      "公共序列: []\n"
     ]
    }
   ],
   "source": [
    "# 公共序列问题\n",
    "X0 = input(\"请输入序列X: \")\n",
    "Y0 = input(\"请输入序列Y: \")\n",
    "\n",
    "X = [char for char in X0]\n",
    "Y = [char for char in Y0]\n",
    "\n",
    "def lcs(X, Y):\n",
    "    m = len(X)\n",
    "    n = len(Y)\n",
    "    c = [[0 for _ in range(n+1)] for _ in range(m+1)]\n",
    "    b = [[None for _ in range(n+1)] for _ in range(m+1)]  # 记录方向\n",
    "    for i in range(1, m+1):\n",
    "        for j in range(1, n+1):\n",
    "            if X[i-1] == Y[j-1]:\n",
    "                c[i][j] = c[i-1][j-1] + 1\n",
    "                b[i][j] = 'xie'\n",
    "            elif c[i-1][j] >= c[i][j-1]:\n",
    "                c[i][j] = c[i-1][j]\n",
    "                b[i][j] = 'shang'\n",
    "            else:\n",
    "                c[i][j] = c[i][j-1]\n",
    "                b[i][j] = 'zuo'\n",
    "    # 回溯求公共序列\n",
    "    def find(b, X, i, j):\n",
    "        seq = []\n",
    "        while i > 0 and j > 0:\n",
    "            if b[i][j] == 'xie':\n",
    "                seq.append(X[i-1])\n",
    "                i -= 1\n",
    "                j -= 1\n",
    "            elif b[i][j] == 'shang':\n",
    "                i -= 1\n",
    "            else:\n",
    "                j -= 1\n",
    "        return seq[::-1]\n",
    "    Both = find(b, X, m, n)\n",
    "    return c[m][n], Both\n",
    "\n",
    "\n",
    "length, both = lcs(X, Y)\n",
    "print(\"公共序列长度:\", length)\n",
    "print(\"公共序列:\", both)"
   ]
  }
 ],
 "metadata": {
  "kernelspec": {
   "display_name": "pytorch-gpu",
   "language": "python",
   "name": "python3"
  },
  "language_info": {
   "codemirror_mode": {
    "name": "ipython",
    "version": 3
   },
   "file_extension": ".py",
   "mimetype": "text/x-python",
   "name": "python",
   "nbconvert_exporter": "python",
   "pygments_lexer": "ipython3",
   "version": "3.11.11"
  }
 },
 "nbformat": 4,
 "nbformat_minor": 5
}
